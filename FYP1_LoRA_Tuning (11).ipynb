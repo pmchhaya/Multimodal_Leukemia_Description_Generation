{
  "nbformat": 4,
  "nbformat_minor": 0,
  "metadata": {
    "colab": {
      "provenance": []
    },
    "kernelspec": {
      "name": "python3",
      "display_name": "Python 3"
    },
    "language_info": {
      "name": "python"
    }
  },
  "cells": [
    {
      "cell_type": "code",
      "source": [
        "from google.colab import drive\n",
        "\n",
        "# Mount Google Drive\n",
        "drive.mount('/content/drive')\n"
      ],
      "metadata": {
        "colab": {
          "base_uri": "https://localhost:8080/"
        },
        "id": "Iq1JLnUq33cN",
        "outputId": "444f043b-fe3f-4edb-d825-c984bcb329d5"
      },
      "execution_count": 1,
      "outputs": [
        {
          "output_type": "stream",
          "name": "stdout",
          "text": [
            "Mounted at /content/drive\n"
          ]
        }
      ]
    },
    {
      "cell_type": "code",
      "execution_count": 2,
      "metadata": {
        "colab": {
          "base_uri": "https://localhost:8080/"
        },
        "id": "mOL6_Juu1v_0",
        "outputId": "7d438426-640a-40eb-c252-75ef2bf71e43"
      },
      "outputs": [
        {
          "output_type": "stream",
          "name": "stdout",
          "text": [
            "Requirement already satisfied: transformers in /usr/local/lib/python3.11/dist-packages (4.52.3)\n",
            "Collecting transformers\n",
            "  Downloading transformers-4.52.4-py3-none-any.whl.metadata (38 kB)\n",
            "Requirement already satisfied: accelerate in /usr/local/lib/python3.11/dist-packages (1.7.0)\n",
            "Requirement already satisfied: tqdm in /usr/local/lib/python3.11/dist-packages (4.67.1)\n",
            "Requirement already satisfied: torchvision in /usr/local/lib/python3.11/dist-packages (0.21.0+cu124)\n",
            "Collecting torchvision\n",
            "  Downloading torchvision-0.22.1-cp311-cp311-manylinux_2_28_x86_64.whl.metadata (6.1 kB)\n",
            "Requirement already satisfied: filelock in /usr/local/lib/python3.11/dist-packages (from transformers) (3.18.0)\n",
            "Requirement already satisfied: huggingface-hub<1.0,>=0.30.0 in /usr/local/lib/python3.11/dist-packages (from transformers) (0.32.2)\n",
            "Requirement already satisfied: numpy>=1.17 in /usr/local/lib/python3.11/dist-packages (from transformers) (2.0.2)\n",
            "Requirement already satisfied: packaging>=20.0 in /usr/local/lib/python3.11/dist-packages (from transformers) (24.2)\n",
            "Requirement already satisfied: pyyaml>=5.1 in /usr/local/lib/python3.11/dist-packages (from transformers) (6.0.2)\n",
            "Requirement already satisfied: regex!=2019.12.17 in /usr/local/lib/python3.11/dist-packages (from transformers) (2024.11.6)\n",
            "Requirement already satisfied: requests in /usr/local/lib/python3.11/dist-packages (from transformers) (2.32.3)\n",
            "Requirement already satisfied: tokenizers<0.22,>=0.21 in /usr/local/lib/python3.11/dist-packages (from transformers) (0.21.1)\n",
            "Requirement already satisfied: safetensors>=0.4.3 in /usr/local/lib/python3.11/dist-packages (from transformers) (0.5.3)\n",
            "Requirement already satisfied: psutil in /usr/local/lib/python3.11/dist-packages (from accelerate) (5.9.5)\n",
            "Requirement already satisfied: torch>=2.0.0 in /usr/local/lib/python3.11/dist-packages (from accelerate) (2.6.0+cu124)\n",
            "Collecting torch>=2.0.0 (from accelerate)\n",
            "  Downloading torch-2.7.1-cp311-cp311-manylinux_2_28_x86_64.whl.metadata (29 kB)\n",
            "Requirement already satisfied: pillow!=8.3.*,>=5.3.0 in /usr/local/lib/python3.11/dist-packages (from torchvision) (11.2.1)\n",
            "Requirement already satisfied: typing-extensions>=4.10.0 in /usr/local/lib/python3.11/dist-packages (from torch>=2.0.0->accelerate) (4.13.2)\n",
            "Collecting sympy>=1.13.3 (from torch>=2.0.0->accelerate)\n",
            "  Downloading sympy-1.14.0-py3-none-any.whl.metadata (12 kB)\n",
            "Requirement already satisfied: networkx in /usr/local/lib/python3.11/dist-packages (from torch>=2.0.0->accelerate) (3.5)\n",
            "Requirement already satisfied: jinja2 in /usr/local/lib/python3.11/dist-packages (from torch>=2.0.0->accelerate) (3.1.6)\n",
            "Requirement already satisfied: fsspec in /usr/local/lib/python3.11/dist-packages (from torch>=2.0.0->accelerate) (2025.3.2)\n",
            "Collecting nvidia-cuda-nvrtc-cu12==12.6.77 (from torch>=2.0.0->accelerate)\n",
            "  Downloading nvidia_cuda_nvrtc_cu12-12.6.77-py3-none-manylinux2014_x86_64.whl.metadata (1.5 kB)\n",
            "Collecting nvidia-cuda-runtime-cu12==12.6.77 (from torch>=2.0.0->accelerate)\n",
            "  Downloading nvidia_cuda_runtime_cu12-12.6.77-py3-none-manylinux2014_x86_64.manylinux_2_17_x86_64.whl.metadata (1.5 kB)\n",
            "Collecting nvidia-cuda-cupti-cu12==12.6.80 (from torch>=2.0.0->accelerate)\n",
            "  Downloading nvidia_cuda_cupti_cu12-12.6.80-py3-none-manylinux2014_x86_64.manylinux_2_17_x86_64.whl.metadata (1.6 kB)\n",
            "Collecting nvidia-cudnn-cu12==9.5.1.17 (from torch>=2.0.0->accelerate)\n",
            "  Downloading nvidia_cudnn_cu12-9.5.1.17-py3-none-manylinux_2_28_x86_64.whl.metadata (1.6 kB)\n",
            "Collecting nvidia-cublas-cu12==12.6.4.1 (from torch>=2.0.0->accelerate)\n",
            "  Downloading nvidia_cublas_cu12-12.6.4.1-py3-none-manylinux2014_x86_64.manylinux_2_17_x86_64.whl.metadata (1.5 kB)\n",
            "Collecting nvidia-cufft-cu12==11.3.0.4 (from torch>=2.0.0->accelerate)\n",
            "  Downloading nvidia_cufft_cu12-11.3.0.4-py3-none-manylinux2014_x86_64.manylinux_2_17_x86_64.whl.metadata (1.5 kB)\n",
            "Collecting nvidia-curand-cu12==10.3.7.77 (from torch>=2.0.0->accelerate)\n",
            "  Downloading nvidia_curand_cu12-10.3.7.77-py3-none-manylinux2014_x86_64.manylinux_2_17_x86_64.whl.metadata (1.5 kB)\n",
            "Collecting nvidia-cusolver-cu12==11.7.1.2 (from torch>=2.0.0->accelerate)\n",
            "  Downloading nvidia_cusolver_cu12-11.7.1.2-py3-none-manylinux2014_x86_64.manylinux_2_17_x86_64.whl.metadata (1.6 kB)\n",
            "Collecting nvidia-cusparse-cu12==12.5.4.2 (from torch>=2.0.0->accelerate)\n",
            "  Downloading nvidia_cusparse_cu12-12.5.4.2-py3-none-manylinux2014_x86_64.manylinux_2_17_x86_64.whl.metadata (1.6 kB)\n",
            "Collecting nvidia-cusparselt-cu12==0.6.3 (from torch>=2.0.0->accelerate)\n",
            "  Downloading nvidia_cusparselt_cu12-0.6.3-py3-none-manylinux2014_x86_64.whl.metadata (6.8 kB)\n",
            "Collecting nvidia-nccl-cu12==2.26.2 (from torch>=2.0.0->accelerate)\n",
            "  Downloading nvidia_nccl_cu12-2.26.2-py3-none-manylinux2014_x86_64.manylinux_2_17_x86_64.whl.metadata (2.0 kB)\n",
            "Collecting nvidia-nvtx-cu12==12.6.77 (from torch>=2.0.0->accelerate)\n",
            "  Downloading nvidia_nvtx_cu12-12.6.77-py3-none-manylinux2014_x86_64.manylinux_2_17_x86_64.whl.metadata (1.6 kB)\n",
            "Collecting nvidia-nvjitlink-cu12==12.6.85 (from torch>=2.0.0->accelerate)\n",
            "  Downloading nvidia_nvjitlink_cu12-12.6.85-py3-none-manylinux2010_x86_64.manylinux_2_12_x86_64.whl.metadata (1.5 kB)\n",
            "Collecting nvidia-cufile-cu12==1.11.1.6 (from torch>=2.0.0->accelerate)\n",
            "  Downloading nvidia_cufile_cu12-1.11.1.6-py3-none-manylinux2014_x86_64.manylinux_2_17_x86_64.whl.metadata (1.5 kB)\n",
            "Collecting triton==3.3.1 (from torch>=2.0.0->accelerate)\n",
            "  Downloading triton-3.3.1-cp311-cp311-manylinux_2_27_x86_64.manylinux_2_28_x86_64.whl.metadata (1.5 kB)\n",
            "Requirement already satisfied: setuptools>=40.8.0 in /usr/local/lib/python3.11/dist-packages (from triton==3.3.1->torch>=2.0.0->accelerate) (75.2.0)\n",
            "Requirement already satisfied: hf-xet<2.0.0,>=1.1.2 in /usr/local/lib/python3.11/dist-packages (from huggingface-hub<1.0,>=0.30.0->transformers) (1.1.2)\n",
            "Requirement already satisfied: charset-normalizer<4,>=2 in /usr/local/lib/python3.11/dist-packages (from requests->transformers) (3.4.2)\n",
            "Requirement already satisfied: idna<4,>=2.5 in /usr/local/lib/python3.11/dist-packages (from requests->transformers) (3.10)\n",
            "Requirement already satisfied: urllib3<3,>=1.21.1 in /usr/local/lib/python3.11/dist-packages (from requests->transformers) (2.4.0)\n",
            "Requirement already satisfied: certifi>=2017.4.17 in /usr/local/lib/python3.11/dist-packages (from requests->transformers) (2025.4.26)\n",
            "Requirement already satisfied: mpmath<1.4,>=1.1.0 in /usr/local/lib/python3.11/dist-packages (from sympy>=1.13.3->torch>=2.0.0->accelerate) (1.3.0)\n",
            "Requirement already satisfied: MarkupSafe>=2.0 in /usr/local/lib/python3.11/dist-packages (from jinja2->torch>=2.0.0->accelerate) (3.0.2)\n",
            "Downloading transformers-4.52.4-py3-none-any.whl (10.5 MB)\n",
            "\u001b[2K   \u001b[90m━━━━━━━━━━━━━━━━━━━━━━━━━━━━━━━━━━━━━━━━\u001b[0m \u001b[32m10.5/10.5 MB\u001b[0m \u001b[31m64.2 MB/s\u001b[0m eta \u001b[36m0:00:00\u001b[0m\n",
            "\u001b[?25hDownloading torchvision-0.22.1-cp311-cp311-manylinux_2_28_x86_64.whl (7.5 MB)\n",
            "\u001b[2K   \u001b[90m━━━━━━━━━━━━━━━━━━━━━━━━━━━━━━━━━━━━━━━━\u001b[0m \u001b[32m7.5/7.5 MB\u001b[0m \u001b[31m73.6 MB/s\u001b[0m eta \u001b[36m0:00:00\u001b[0m\n",
            "\u001b[?25hDownloading torch-2.7.1-cp311-cp311-manylinux_2_28_x86_64.whl (821.2 MB)\n",
            "\u001b[2K   \u001b[90m━━━━━━━━━━━━━━━━━━━━━━━━━━━━━━━━━━━━━━━━\u001b[0m \u001b[32m821.2/821.2 MB\u001b[0m \u001b[31m1.4 MB/s\u001b[0m eta \u001b[36m0:00:00\u001b[0m\n",
            "\u001b[?25hDownloading nvidia_cublas_cu12-12.6.4.1-py3-none-manylinux2014_x86_64.manylinux_2_17_x86_64.whl (393.1 MB)\n",
            "\u001b[2K   \u001b[90m━━━━━━━━━━━━━━━━━━━━━━━━━━━━━━━━━━━━━━━━\u001b[0m \u001b[32m393.1/393.1 MB\u001b[0m \u001b[31m3.0 MB/s\u001b[0m eta \u001b[36m0:00:00\u001b[0m\n",
            "\u001b[?25hDownloading nvidia_cuda_cupti_cu12-12.6.80-py3-none-manylinux2014_x86_64.manylinux_2_17_x86_64.whl (8.9 MB)\n",
            "\u001b[2K   \u001b[90m━━━━━━━━━━━━━━━━━━━━━━━━━━━━━━━━━━━━━━━━\u001b[0m \u001b[32m8.9/8.9 MB\u001b[0m \u001b[31m86.8 MB/s\u001b[0m eta \u001b[36m0:00:00\u001b[0m\n",
            "\u001b[?25hDownloading nvidia_cuda_nvrtc_cu12-12.6.77-py3-none-manylinux2014_x86_64.whl (23.7 MB)\n",
            "\u001b[2K   \u001b[90m━━━━━━━━━━━━━━━━━━━━━━━━━━━━━━━━━━━━━━━━\u001b[0m \u001b[32m23.7/23.7 MB\u001b[0m \u001b[31m73.5 MB/s\u001b[0m eta \u001b[36m0:00:00\u001b[0m\n",
            "\u001b[?25hDownloading nvidia_cuda_runtime_cu12-12.6.77-py3-none-manylinux2014_x86_64.manylinux_2_17_x86_64.whl (897 kB)\n",
            "\u001b[2K   \u001b[90m━━━━━━━━━━━━━━━━━━━━━━━━━━━━━━━━━━━━━━━━\u001b[0m \u001b[32m897.7/897.7 kB\u001b[0m \u001b[31m46.7 MB/s\u001b[0m eta \u001b[36m0:00:00\u001b[0m\n",
            "\u001b[?25hDownloading nvidia_cudnn_cu12-9.5.1.17-py3-none-manylinux_2_28_x86_64.whl (571.0 MB)\n",
            "\u001b[2K   \u001b[90m━━━━━━━━━━━━━━━━━━━━━━━━━━━━━━━━━━━━━━━━\u001b[0m \u001b[32m571.0/571.0 MB\u001b[0m \u001b[31m1.3 MB/s\u001b[0m eta \u001b[36m0:00:00\u001b[0m\n",
            "\u001b[?25hDownloading nvidia_cufft_cu12-11.3.0.4-py3-none-manylinux2014_x86_64.manylinux_2_17_x86_64.whl (200.2 MB)\n",
            "\u001b[2K   \u001b[90m━━━━━━━━━━━━━━━━━━━━━━━━━━━━━━━━━━━━━━━━\u001b[0m \u001b[32m200.2/200.2 MB\u001b[0m \u001b[31m3.7 MB/s\u001b[0m eta \u001b[36m0:00:00\u001b[0m\n",
            "\u001b[?25hDownloading nvidia_cufile_cu12-1.11.1.6-py3-none-manylinux2014_x86_64.manylinux_2_17_x86_64.whl (1.1 MB)\n",
            "\u001b[2K   \u001b[90m━━━━━━━━━━━━━━━━━━━━━━━━━━━━━━━━━━━━━━━━\u001b[0m \u001b[32m1.1/1.1 MB\u001b[0m \u001b[31m12.7 MB/s\u001b[0m eta \u001b[36m0:00:00\u001b[0m\n",
            "\u001b[?25hDownloading nvidia_curand_cu12-10.3.7.77-py3-none-manylinux2014_x86_64.manylinux_2_17_x86_64.whl (56.3 MB)\n",
            "\u001b[2K   \u001b[90m━━━━━━━━━━━━━━━━━━━━━━━━━━━━━━━━━━━━━━━━\u001b[0m \u001b[32m56.3/56.3 MB\u001b[0m \u001b[31m7.3 MB/s\u001b[0m eta \u001b[36m0:00:00\u001b[0m\n",
            "\u001b[?25hDownloading nvidia_cusolver_cu12-11.7.1.2-py3-none-manylinux2014_x86_64.manylinux_2_17_x86_64.whl (158.2 MB)\n",
            "\u001b[2K   \u001b[90m━━━━━━━━━━━━━━━━━━━━━━━━━━━━━━━━━━━━━━━━\u001b[0m \u001b[32m158.2/158.2 MB\u001b[0m \u001b[31m7.3 MB/s\u001b[0m eta \u001b[36m0:00:00\u001b[0m\n",
            "\u001b[?25hDownloading nvidia_cusparse_cu12-12.5.4.2-py3-none-manylinux2014_x86_64.manylinux_2_17_x86_64.whl (216.6 MB)\n",
            "\u001b[2K   \u001b[90m━━━━━━━━━━━━━━━━━━━━━━━━━━━━━━━━━━━━━━━━\u001b[0m \u001b[32m216.6/216.6 MB\u001b[0m \u001b[31m6.0 MB/s\u001b[0m eta \u001b[36m0:00:00\u001b[0m\n",
            "\u001b[?25hDownloading nvidia_cusparselt_cu12-0.6.3-py3-none-manylinux2014_x86_64.whl (156.8 MB)\n",
            "\u001b[2K   \u001b[90m━━━━━━━━━━━━━━━━━━━━━━━━━━━━━━━━━━━━━━━━\u001b[0m \u001b[32m156.8/156.8 MB\u001b[0m \u001b[31m7.8 MB/s\u001b[0m eta \u001b[36m0:00:00\u001b[0m\n",
            "\u001b[?25hDownloading nvidia_nccl_cu12-2.26.2-py3-none-manylinux2014_x86_64.manylinux_2_17_x86_64.whl (201.3 MB)\n",
            "\u001b[2K   \u001b[90m━━━━━━━━━━━━━━━━━━━━━━━━━━━━━━━━━━━━━━━━\u001b[0m \u001b[32m201.3/201.3 MB\u001b[0m \u001b[31m7.5 MB/s\u001b[0m eta \u001b[36m0:00:00\u001b[0m\n",
            "\u001b[?25hDownloading nvidia_nvjitlink_cu12-12.6.85-py3-none-manylinux2010_x86_64.manylinux_2_12_x86_64.whl (19.7 MB)\n",
            "\u001b[2K   \u001b[90m━━━━━━━━━━━━━━━━━━━━━━━━━━━━━━━━━━━━━━━━\u001b[0m \u001b[32m19.7/19.7 MB\u001b[0m \u001b[31m57.8 MB/s\u001b[0m eta \u001b[36m0:00:00\u001b[0m\n",
            "\u001b[?25hDownloading nvidia_nvtx_cu12-12.6.77-py3-none-manylinux2014_x86_64.manylinux_2_17_x86_64.whl (89 kB)\n",
            "\u001b[2K   \u001b[90m━━━━━━━━━━━━━━━━━━━━━━━━━━━━━━━━━━━━━━━━\u001b[0m \u001b[32m89.3/89.3 kB\u001b[0m \u001b[31m6.9 MB/s\u001b[0m eta \u001b[36m0:00:00\u001b[0m\n",
            "\u001b[?25hDownloading triton-3.3.1-cp311-cp311-manylinux_2_27_x86_64.manylinux_2_28_x86_64.whl (155.7 MB)\n",
            "\u001b[2K   \u001b[90m━━━━━━━━━━━━━━━━━━━━━━━━━━━━━━━━━━━━━━━━\u001b[0m \u001b[32m155.7/155.7 MB\u001b[0m \u001b[31m7.0 MB/s\u001b[0m eta \u001b[36m0:00:00\u001b[0m\n",
            "\u001b[?25hDownloading sympy-1.14.0-py3-none-any.whl (6.3 MB)\n",
            "\u001b[2K   \u001b[90m━━━━━━━━━━━━━━━━━━━━━━━━━━━━━━━━━━━━━━━━\u001b[0m \u001b[32m6.3/6.3 MB\u001b[0m \u001b[31m100.5 MB/s\u001b[0m eta \u001b[36m0:00:00\u001b[0m\n",
            "\u001b[?25hInstalling collected packages: nvidia-cusparselt-cu12, triton, sympy, nvidia-nvtx-cu12, nvidia-nvjitlink-cu12, nvidia-nccl-cu12, nvidia-curand-cu12, nvidia-cufile-cu12, nvidia-cuda-runtime-cu12, nvidia-cuda-nvrtc-cu12, nvidia-cuda-cupti-cu12, nvidia-cublas-cu12, nvidia-cusparse-cu12, nvidia-cufft-cu12, nvidia-cudnn-cu12, nvidia-cusolver-cu12, transformers, torch, torchvision\n",
            "  Attempting uninstall: nvidia-cusparselt-cu12\n",
            "    Found existing installation: nvidia-cusparselt-cu12 0.6.2\n",
            "    Uninstalling nvidia-cusparselt-cu12-0.6.2:\n",
            "      Successfully uninstalled nvidia-cusparselt-cu12-0.6.2\n",
            "  Attempting uninstall: triton\n",
            "    Found existing installation: triton 3.2.0\n",
            "    Uninstalling triton-3.2.0:\n",
            "      Successfully uninstalled triton-3.2.0\n",
            "  Attempting uninstall: sympy\n",
            "    Found existing installation: sympy 1.13.1\n",
            "    Uninstalling sympy-1.13.1:\n",
            "      Successfully uninstalled sympy-1.13.1\n",
            "  Attempting uninstall: nvidia-nvtx-cu12\n",
            "    Found existing installation: nvidia-nvtx-cu12 12.4.127\n",
            "    Uninstalling nvidia-nvtx-cu12-12.4.127:\n",
            "      Successfully uninstalled nvidia-nvtx-cu12-12.4.127\n",
            "  Attempting uninstall: nvidia-nvjitlink-cu12\n",
            "    Found existing installation: nvidia-nvjitlink-cu12 12.5.82\n",
            "    Uninstalling nvidia-nvjitlink-cu12-12.5.82:\n",
            "      Successfully uninstalled nvidia-nvjitlink-cu12-12.5.82\n",
            "  Attempting uninstall: nvidia-nccl-cu12\n",
            "    Found existing installation: nvidia-nccl-cu12 2.21.5\n",
            "    Uninstalling nvidia-nccl-cu12-2.21.5:\n",
            "      Successfully uninstalled nvidia-nccl-cu12-2.21.5\n",
            "  Attempting uninstall: nvidia-curand-cu12\n",
            "    Found existing installation: nvidia-curand-cu12 10.3.6.82\n",
            "    Uninstalling nvidia-curand-cu12-10.3.6.82:\n",
            "      Successfully uninstalled nvidia-curand-cu12-10.3.6.82\n",
            "  Attempting uninstall: nvidia-cuda-runtime-cu12\n",
            "    Found existing installation: nvidia-cuda-runtime-cu12 12.5.82\n",
            "    Uninstalling nvidia-cuda-runtime-cu12-12.5.82:\n",
            "      Successfully uninstalled nvidia-cuda-runtime-cu12-12.5.82\n",
            "  Attempting uninstall: nvidia-cuda-nvrtc-cu12\n",
            "    Found existing installation: nvidia-cuda-nvrtc-cu12 12.5.82\n",
            "    Uninstalling nvidia-cuda-nvrtc-cu12-12.5.82:\n",
            "      Successfully uninstalled nvidia-cuda-nvrtc-cu12-12.5.82\n",
            "  Attempting uninstall: nvidia-cuda-cupti-cu12\n",
            "    Found existing installation: nvidia-cuda-cupti-cu12 12.5.82\n",
            "    Uninstalling nvidia-cuda-cupti-cu12-12.5.82:\n",
            "      Successfully uninstalled nvidia-cuda-cupti-cu12-12.5.82\n",
            "  Attempting uninstall: nvidia-cublas-cu12\n",
            "    Found existing installation: nvidia-cublas-cu12 12.5.3.2\n",
            "    Uninstalling nvidia-cublas-cu12-12.5.3.2:\n",
            "      Successfully uninstalled nvidia-cublas-cu12-12.5.3.2\n",
            "  Attempting uninstall: nvidia-cusparse-cu12\n",
            "    Found existing installation: nvidia-cusparse-cu12 12.5.1.3\n",
            "    Uninstalling nvidia-cusparse-cu12-12.5.1.3:\n",
            "      Successfully uninstalled nvidia-cusparse-cu12-12.5.1.3\n",
            "  Attempting uninstall: nvidia-cufft-cu12\n",
            "    Found existing installation: nvidia-cufft-cu12 11.2.3.61\n",
            "    Uninstalling nvidia-cufft-cu12-11.2.3.61:\n",
            "      Successfully uninstalled nvidia-cufft-cu12-11.2.3.61\n",
            "  Attempting uninstall: nvidia-cudnn-cu12\n",
            "    Found existing installation: nvidia-cudnn-cu12 9.3.0.75\n",
            "    Uninstalling nvidia-cudnn-cu12-9.3.0.75:\n",
            "      Successfully uninstalled nvidia-cudnn-cu12-9.3.0.75\n",
            "  Attempting uninstall: nvidia-cusolver-cu12\n",
            "    Found existing installation: nvidia-cusolver-cu12 11.6.3.83\n",
            "    Uninstalling nvidia-cusolver-cu12-11.6.3.83:\n",
            "      Successfully uninstalled nvidia-cusolver-cu12-11.6.3.83\n",
            "  Attempting uninstall: transformers\n",
            "    Found existing installation: transformers 4.52.3\n",
            "    Uninstalling transformers-4.52.3:\n",
            "      Successfully uninstalled transformers-4.52.3\n",
            "  Attempting uninstall: torch\n",
            "    Found existing installation: torch 2.6.0+cu124\n",
            "    Uninstalling torch-2.6.0+cu124:\n",
            "      Successfully uninstalled torch-2.6.0+cu124\n",
            "  Attempting uninstall: torchvision\n",
            "    Found existing installation: torchvision 0.21.0+cu124\n",
            "    Uninstalling torchvision-0.21.0+cu124:\n",
            "      Successfully uninstalled torchvision-0.21.0+cu124\n",
            "\u001b[31mERROR: pip's dependency resolver does not currently take into account all the packages that are installed. This behaviour is the source of the following dependency conflicts.\n",
            "fastai 2.7.19 requires torch<2.7,>=1.10, but you have torch 2.7.1 which is incompatible.\n",
            "torchaudio 2.6.0+cu124 requires torch==2.6.0, but you have torch 2.7.1 which is incompatible.\u001b[0m\u001b[31m\n",
            "\u001b[0mSuccessfully installed nvidia-cublas-cu12-12.6.4.1 nvidia-cuda-cupti-cu12-12.6.80 nvidia-cuda-nvrtc-cu12-12.6.77 nvidia-cuda-runtime-cu12-12.6.77 nvidia-cudnn-cu12-9.5.1.17 nvidia-cufft-cu12-11.3.0.4 nvidia-cufile-cu12-1.11.1.6 nvidia-curand-cu12-10.3.7.77 nvidia-cusolver-cu12-11.7.1.2 nvidia-cusparse-cu12-12.5.4.2 nvidia-cusparselt-cu12-0.6.3 nvidia-nccl-cu12-2.26.2 nvidia-nvjitlink-cu12-12.6.85 nvidia-nvtx-cu12-12.6.77 sympy-1.14.0 torch-2.7.1 torchvision-0.22.1 transformers-4.52.4 triton-3.3.1\n"
          ]
        }
      ],
      "source": [
        "!pip install -U transformers accelerate tqdm torchvision\n",
        "\n",
        "import os\n",
        "import time\n",
        "import torch\n",
        "import torch.nn.functional as F\n",
        "import matplotlib.pyplot as plt\n",
        "from tqdm import tqdm\n",
        "from PIL import Image\n",
        "from torch.utils.data import DataLoader, Subset\n",
        "from torchvision import datasets\n",
        "from transformers import CLIPModel, CLIPProcessor\n"
      ]
    },
    {
      "cell_type": "code",
      "source": [
        "import torch\n",
        "import torch.nn.functional as F\n",
        "from torch.utils.data import DataLoader, Subset\n",
        "from peft import get_peft_model, LoraConfig, TaskType\n",
        "from transformers import CLIPModel, CLIPProcessor\n",
        "import torchvision.datasets as datasets\n",
        "from PIL import Image\n",
        "import time\n",
        "from tqdm import tqdm\n",
        "\n",
        "device = \"cuda\" if torch.cuda.is_available() else \"cpu\"\n",
        "USE_HALF = torch.cuda.is_available() and torch.cuda.get_device_capability()[0] >= 7\n",
        "\n",
        "# Load CLIP model\n",
        "clip_model = CLIPModel.from_pretrained(\"openai/clip-vit-base-patch32\").to(device)\n",
        "processor = CLIPProcessor.from_pretrained(\"openai/clip-vit-base-patch32\")\n",
        "\n",
        "if USE_HALF:\n",
        "    clip_model = clip_model.half()\n",
        "\n",
        "# Proper LoRA configuration for CLIP vision model\n",
        "lora_config = LoraConfig(\n",
        "    task_type=TaskType.FEATURE_EXTRACTION,  # Add task type\n",
        "    r=8,                    # Slightly higher rank\n",
        "    lora_alpha=32,          # Higher alpha for stronger adaptation\n",
        "    target_modules=[\n",
        "        # Correct module paths for CLIP vision transformer\n",
        "        \"vision_model.encoder.layers.0.self_attn.q_proj\",\n",
        "        \"vision_model.encoder.layers.0.self_attn.v_proj\",\n",
        "        \"vision_model.encoder.layers.1.self_attn.q_proj\",\n",
        "        \"vision_model.encoder.layers.1.self_attn.v_proj\",\n",
        "        \"vision_model.encoder.layers.2.self_attn.q_proj\",\n",
        "        \"vision_model.encoder.layers.2.self_attn.v_proj\",\n",
        "        # Add more layers as needed - CLIP-ViT-B has 12 layers\n",
        "    ],\n",
        "    lora_dropout=0.1,\n",
        "    bias=\"none\",\n",
        ")\n",
        "\n",
        "#  Apply LoRA to the entire model with correct target modules\n",
        "clip_model = get_peft_model(clip_model, lora_config)\n",
        "\n",
        "# Freeze text model explicitly\n",
        "for name, param in clip_model.named_parameters():\n",
        "    if \"text_model\" in name and \"lora\" not in name.lower():\n",
        "        param.requires_grad = False\n",
        "\n",
        "#  Verify LoRA parameters are registered\n",
        "print(\"=== LORA VERIFICATION ===\")\n",
        "trainable_params = [(n, p.shape) for n, p in clip_model.named_parameters() if p.requires_grad]\n",
        "print(f\"Total trainable parameters: {len(trainable_params)}\")\n",
        "\n",
        "lora_params = [n for n, p in clip_model.named_parameters() if \"lora\" in n.lower() and p.requires_grad]\n",
        "print(f\"LoRA parameters: {len(lora_params)}\")\n",
        "\n",
        "if lora_params:\n",
        "    print(\"✅ LoRA parameters found:\")\n",
        "    for name in lora_params[:5]:  # Show first 5\n",
        "        print(f\"  {name}\")\n",
        "else:\n",
        "    print(\"❌ NO LORA PARAMETERS FOUND!\")\n",
        "    print(\"Trainable parameters:\")\n",
        "    for name, shape in trainable_params[:10]:\n",
        "        print(f\"  {name}: {shape}\")"
      ],
      "metadata": {
        "colab": {
          "base_uri": "https://localhost:8080/"
        },
        "id": "a2Mikuu5122l",
        "outputId": "6bfab3c7-910f-4ab0-da52-fa28c4c32e39"
      },
      "execution_count": 9,
      "outputs": [
        {
          "output_type": "stream",
          "name": "stdout",
          "text": [
            "=== LORA VERIFICATION ===\n",
            "Total trainable parameters: 12\n",
            "LoRA parameters: 12\n",
            "✅ LoRA parameters found:\n",
            "  base_model.model.vision_model.encoder.layers.0.self_attn.v_proj.lora_A.default.weight\n",
            "  base_model.model.vision_model.encoder.layers.0.self_attn.v_proj.lora_B.default.weight\n",
            "  base_model.model.vision_model.encoder.layers.0.self_attn.q_proj.lora_A.default.weight\n",
            "  base_model.model.vision_model.encoder.layers.0.self_attn.q_proj.lora_B.default.weight\n",
            "  base_model.model.vision_model.encoder.layers.1.self_attn.v_proj.lora_A.default.weight\n"
          ]
        }
      ]
    },
    {
      "cell_type": "code",
      "source": [
        "# Define descriptive labels for morphology\n",
        "descriptive_labels = {\n",
        "    \"BAS\": \"basophil with large granules and segmented nucleus\",\n",
        "    \"EBO\": \"erythroblast with round nucleus and basophilic cytoplasm\",\n",
        "    \"EOS\": \"eosinophil with bilobed nucleus and eosinophilic granules\",\n",
        "    \"KSC\": \"smudge cell lacking intact nucleus\",\n",
        "    \"LYA\": \"atypical lymphocyte with irregular nucleus\",\n",
        "    \"LYT\": \"typical lymphocyte with round nucleus and dense chromatin\",\n",
        "    \"MMZ\": \"metamyelocyte with kidney-shaped nucleus\",\n",
        "    \"MOB\": \"monoblast with fine chromatin and prominent nucleoli\",\n",
        "    \"MON\": \"monocyte with abundant cytoplasm and folded nucleus\",\n",
        "    \"MYB\": \"myelocyte with round eccentric nucleus\",\n",
        "    \"MYO\": \"myeloblast with high nuclear-to-cytoplasmic ratio\",\n",
        "    \"NGB\": \"band neutrophil with horseshoe-shaped nucleus\",\n",
        "    \"NGS\": \"segmented neutrophil with multilobed nucleus\",\n",
        "    \"PMB\": \"promyelocyte with bilobed nucleus and dense granules\",\n",
        "    \"PMO\": \"promyelocyte with azurophilic granules\",\n",
        "    \"UNC\": \"unclassified cell lacking distinct morphology\",\n",
        "    \"nan\": \"unannotated cell\"\n",
        "}\n",
        "\n",
        "# Dataset setup (replace with your actual path)\n",
        "dataset_path = \"/content/drive/MyDrive/data/PKG - AML-Cytomorphology_LMU\"\n",
        "\n",
        "class AMLImageFolder(datasets.ImageFolder):\n",
        "    def __getitem__(self, index):\n",
        "        path, label = self.samples[index]\n",
        "        image = Image.open(path).convert(\"RGB\")\n",
        "        return image, label\n",
        "\n",
        "def collate_fn(batch):\n",
        "    images, labels = zip(*batch)\n",
        "    return list(images), torch.tensor(labels)\n",
        "\n",
        "# Load dataset\n",
        "full_dataset = AMLImageFolder(dataset_path)\n",
        "SUBSET_SIZE = 1000\n",
        "subset_indices = list(range(SUBSET_SIZE))\n",
        "train_dataset = Subset(full_dataset, subset_indices)\n",
        "\n",
        "# ✅ FIXED: Larger batch size for better contrastive learning\n",
        "train_loader = DataLoader(\n",
        "    train_dataset, batch_size=8, shuffle=True,  # Increased from 4\n",
        "    num_workers=2, pin_memory=True, collate_fn=collate_fn\n",
        ")"
      ],
      "metadata": {
        "id": "7Gmx6bi78OY8"
      },
      "execution_count": 10,
      "outputs": []
    },
    {
      "cell_type": "code",
      "source": [
        "NUM_EPOCHS = 5\n",
        "train_losses = []\n",
        "\n",
        "clip_model.train()\n",
        "\n",
        "# Higher learning rate and proper parameter filtering\n",
        "optimizer = torch.optim.AdamW(\n",
        "    [p for p in clip_model.parameters() if p.requires_grad],\n",
        "    lr=5e-4,  # Increased from 1e-4\n",
        "    weight_decay=0.01\n",
        ")\n",
        "\n",
        "#  Add learning rate scheduler\n",
        "scheduler = torch.optim.lr_scheduler.CosineAnnealingLR(optimizer, T_max=NUM_EPOCHS)\n",
        "\n",
        "print(f\"Starting training with {len(train_loader)} batches per epoch...\")\n",
        "\n",
        "for epoch in range(NUM_EPOCHS):\n",
        "    total_loss = 0.0\n",
        "    start_time = time.time()\n",
        "    loop = tqdm(train_loader, desc=f\"🧪 Epoch {epoch+1}/{NUM_EPOCHS}\", unit=\"batch\")\n",
        "\n",
        "    for step, (images, labels) in enumerate(loop):\n",
        "        # Get text descriptions\n",
        "        raw_labels = [full_dataset.classes[label] for label in labels]\n",
        "        texts = [descriptive_labels.get(lbl, \"leukemia cell\") for lbl in raw_labels]\n",
        "\n",
        "        # Process inputs\n",
        "        inputs = processor(text=texts, images=images, return_tensors=\"pt\", padding=True).to(device)\n",
        "        if USE_HALF:\n",
        "            inputs = {k: v.half() if v.dtype == torch.float32 else v for k, v in inputs.items()}\n",
        "\n",
        "        #  Direct feature extraction for PEFT models\n",
        "        text_embeds = clip_model.get_text_features(\n",
        "            input_ids=inputs['input_ids'],\n",
        "            attention_mask=inputs['attention_mask']\n",
        "        )\n",
        "        image_embeds = clip_model.get_image_features(\n",
        "            pixel_values=inputs['pixel_values']\n",
        "        )\n",
        "\n",
        "        # Get normalized embeddings (remove the outputs.image_embeds reference)\n",
        "        image_embeds = F.normalize(image_embeds, dim=-1)\n",
        "        text_embeds = F.normalize(text_embeds, dim=-1)\n",
        "\n",
        "        # Contrastive loss, Use learnable logit scale\n",
        "        logit_scale = clip_model.logit_scale.exp()\n",
        "        logits = torch.matmul(image_embeds, text_embeds.T) * logit_scale\n",
        "\n",
        "        batch_size = len(images)\n",
        "        targets = torch.arange(batch_size).to(device)\n",
        "\n",
        "        # Symmetric loss (both directions)\n",
        "        loss_i2t = F.cross_entropy(logits, targets)\n",
        "        loss_t2i = F.cross_entropy(logits.T, targets)\n",
        "        loss = (loss_i2t + loss_t2i) / 2\n",
        "\n",
        "        # Backward pass\n",
        "        optimizer.zero_grad()\n",
        "        loss.backward()\n",
        "\n",
        "        # Add gradient clipping\n",
        "        torch.nn.utils.clip_grad_norm_(clip_model.parameters(), max_norm=1.0)\n",
        "\n",
        "        optimizer.step()\n",
        "\n",
        "        total_loss += loss.item()\n",
        "        loop.set_postfix(loss=loss.item(), lr=optimizer.param_groups[0]['lr'])\n",
        "\n",
        "        #  Check gradient flow every 50 steps\n",
        "        if step % 50 == 0:\n",
        "            grad_norms = []\n",
        "            for name, param in clip_model.named_parameters():\n",
        "                if param.requires_grad and param.grad is not None:\n",
        "                    grad_norms.append(param.grad.norm().item())\n",
        "\n",
        "            if grad_norms:\n",
        "                avg_grad_norm = sum(grad_norms) / len(grad_norms)\n",
        "                print(f\"Step {step}: Avg gradient norm = {avg_grad_norm:.6f}\")\n",
        "            else:\n",
        "                print(f\"Step {step}: NO GRADIENTS FOUND!\")\n",
        "\n",
        "    # Update learning rate\n",
        "    scheduler.step()\n",
        "\n",
        "    avg_loss = total_loss / len(train_loader)\n",
        "    train_losses.append(avg_loss)\n",
        "\n",
        "    print(f\" Epoch {epoch+1} completed — Avg Loss: {avg_loss:.4f} — Time: {time.time() - start_time:.2f} sec\")\n",
        "\n",
        "    # Check if loss is changing\n",
        "    if epoch > 0:\n",
        "        loss_change = abs(train_losses[-1] - train_losses[-2])\n",
        "        print(f\"   Loss change from previous epoch: {loss_change:.6f}\")\n",
        "\n",
        "        if loss_change < 1e-6:\n",
        "            print(\"⚠️  WARNING: Loss not changing - check training setup!\")"
      ],
      "metadata": {
        "colab": {
          "base_uri": "https://localhost:8080/"
        },
        "id": "LG-me26M-ul3",
        "outputId": "693a34fd-3945-4b1c-fae5-8190d2bc507d"
      },
      "execution_count": 14,
      "outputs": [
        {
          "metadata": {
            "tags": null
          },
          "name": "stdout",
          "output_type": "stream",
          "text": [
            "Starting training with 125 batches per epoch...\n"
          ]
        },
        {
          "metadata": {
            "tags": null
          },
          "name": "stderr",
          "output_type": "stream",
          "text": [
            "🧪 Epoch 1/5:   1%|          | 1/125 [00:05<12:05,  5.85s/batch, loss=2.38, lr=0.0005]"
          ]
        },
        {
          "metadata": {
            "tags": null
          },
          "name": "stdout",
          "output_type": "stream",
          "text": [
            "Step 0: Avg gradient norm = 0.163501\n"
          ]
        },
        {
          "metadata": {
            "tags": null
          },
          "name": "stderr",
          "output_type": "stream",
          "text": [
            "🧪 Epoch 1/5:  41%|████      | 51/125 [02:34<03:48,  3.08s/batch, loss=1.96, lr=0.0005]"
          ]
        },
        {
          "metadata": {
            "tags": null
          },
          "name": "stdout",
          "output_type": "stream",
          "text": [
            "Step 50: Avg gradient norm = 0.178322\n"
          ]
        },
        {
          "metadata": {
            "tags": null
          },
          "name": "stderr",
          "output_type": "stream",
          "text": [
            "🧪 Epoch 1/5:  81%|████████  | 101/125 [04:58<01:09,  2.91s/batch, loss=1.63, lr=0.0005]"
          ]
        },
        {
          "metadata": {
            "tags": null
          },
          "name": "stdout",
          "output_type": "stream",
          "text": [
            "Step 100: Avg gradient norm = 0.180304\n"
          ]
        },
        {
          "metadata": {
            "tags": null
          },
          "name": "stderr",
          "output_type": "stream",
          "text": [
            "🧪 Epoch 1/5: 100%|██████████| 125/125 [06:09<00:00,  2.96s/batch, loss=1.54, lr=0.0005]\n"
          ]
        },
        {
          "metadata": {
            "tags": null
          },
          "name": "stdout",
          "output_type": "stream",
          "text": [
            "✅ Epoch 1 completed — Avg Loss: 1.9049 — Time: 369.88 sec\n"
          ]
        },
        {
          "metadata": {
            "tags": null
          },
          "name": "stderr",
          "output_type": "stream",
          "text": [
            "🧪 Epoch 2/5:   1%|          | 1/125 [00:03<06:59,  3.38s/batch, loss=1.87, lr=0.000452]"
          ]
        },
        {
          "metadata": {
            "tags": null
          },
          "name": "stdout",
          "output_type": "stream",
          "text": [
            "Step 0: Avg gradient norm = 0.171016\n"
          ]
        },
        {
          "metadata": {
            "tags": null
          },
          "name": "stderr",
          "output_type": "stream",
          "text": [
            "🧪 Epoch 2/5:  41%|████      | 51/125 [02:35<03:58,  3.22s/batch, loss=1.76, lr=0.000452]"
          ]
        },
        {
          "metadata": {
            "tags": null
          },
          "name": "stdout",
          "output_type": "stream",
          "text": [
            "Step 50: Avg gradient norm = 0.193849\n"
          ]
        },
        {
          "metadata": {
            "tags": null
          },
          "name": "stderr",
          "output_type": "stream",
          "text": [
            "🧪 Epoch 2/5:  81%|████████  | 101/125 [05:00<01:07,  2.80s/batch, loss=1.32, lr=0.000452]"
          ]
        },
        {
          "metadata": {
            "tags": null
          },
          "name": "stdout",
          "output_type": "stream",
          "text": [
            "Step 100: Avg gradient norm = 0.193718\n"
          ]
        },
        {
          "metadata": {
            "tags": null
          },
          "name": "stderr",
          "output_type": "stream",
          "text": [
            "🧪 Epoch 2/5: 100%|██████████| 125/125 [06:10<00:00,  2.97s/batch, loss=1.74, lr=0.000452]\n"
          ]
        },
        {
          "metadata": {
            "tags": null
          },
          "name": "stdout",
          "output_type": "stream",
          "text": [
            "✅ Epoch 2 completed — Avg Loss: 1.5950 — Time: 370.83 sec\n",
            "   Loss change from previous epoch: 0.309844\n"
          ]
        },
        {
          "metadata": {
            "tags": null
          },
          "name": "stderr",
          "output_type": "stream",
          "text": [
            "🧪 Epoch 3/5:   1%|          | 1/125 [00:04<09:19,  4.52s/batch, loss=1.38, lr=0.000327]"
          ]
        },
        {
          "metadata": {
            "tags": null
          },
          "name": "stdout",
          "output_type": "stream",
          "text": [
            "Step 0: Avg gradient norm = 0.184387\n"
          ]
        },
        {
          "metadata": {
            "tags": null
          },
          "name": "stderr",
          "output_type": "stream",
          "text": [
            "🧪 Epoch 3/5:  41%|████      | 51/125 [02:27<03:26,  2.79s/batch, loss=1.51, lr=0.000327]"
          ]
        },
        {
          "metadata": {
            "tags": null
          },
          "name": "stdout",
          "output_type": "stream",
          "text": [
            "Step 50: Avg gradient norm = 0.199254\n"
          ]
        },
        {
          "metadata": {
            "tags": null
          },
          "name": "stderr",
          "output_type": "stream",
          "text": [
            "🧪 Epoch 3/5:  81%|████████  | 101/125 [04:58<01:10,  2.93s/batch, loss=1.33, lr=0.000327]"
          ]
        },
        {
          "metadata": {
            "tags": null
          },
          "name": "stdout",
          "output_type": "stream",
          "text": [
            "Step 100: Avg gradient norm = 0.193425\n"
          ]
        },
        {
          "metadata": {
            "tags": null
          },
          "name": "stderr",
          "output_type": "stream",
          "text": [
            "🧪 Epoch 3/5: 100%|██████████| 125/125 [06:08<00:00,  2.95s/batch, loss=1.58, lr=0.000327]\n"
          ]
        },
        {
          "metadata": {
            "tags": null
          },
          "name": "stdout",
          "output_type": "stream",
          "text": [
            "✅ Epoch 3 completed — Avg Loss: 1.4777 — Time: 368.39 sec\n",
            "   Loss change from previous epoch: 0.117355\n"
          ]
        },
        {
          "metadata": {
            "tags": null
          },
          "name": "stderr",
          "output_type": "stream",
          "text": [
            "🧪 Epoch 4/5:   1%|          | 1/125 [00:03<07:00,  3.39s/batch, loss=1.4, lr=0.000173]"
          ]
        },
        {
          "metadata": {
            "tags": null
          },
          "name": "stdout",
          "output_type": "stream",
          "text": [
            "Step 0: Avg gradient norm = 0.189065\n"
          ]
        },
        {
          "metadata": {
            "tags": null
          },
          "name": "stderr",
          "output_type": "stream",
          "text": [
            "🧪 Epoch 4/5:  41%|████      | 51/125 [02:27<03:41,  3.00s/batch, loss=1.26, lr=0.000173]"
          ]
        },
        {
          "metadata": {
            "tags": null
          },
          "name": "stdout",
          "output_type": "stream",
          "text": [
            "Step 50: Avg gradient norm = 0.193053\n"
          ]
        },
        {
          "metadata": {
            "tags": null
          },
          "name": "stderr",
          "output_type": "stream",
          "text": [
            "🧪 Epoch 4/5:  81%|████████  | 101/125 [04:52<01:05,  2.74s/batch, loss=1.4, lr=0.000173]"
          ]
        },
        {
          "metadata": {
            "tags": null
          },
          "name": "stdout",
          "output_type": "stream",
          "text": [
            "Step 100: Avg gradient norm = 0.192472\n"
          ]
        },
        {
          "output_type": "stream",
          "name": "stderr",
          "text": [
            "🧪 Epoch 4/5: 100%|██████████| 125/125 [06:01<00:00,  2.89s/batch, loss=1.47, lr=0.000173]\n"
          ]
        },
        {
          "output_type": "stream",
          "name": "stdout",
          "text": [
            "✅ Epoch 4 completed — Avg Loss: 1.3880 — Time: 361.30 sec\n",
            "   Loss change from previous epoch: 0.089664\n"
          ]
        },
        {
          "output_type": "stream",
          "name": "stderr",
          "text": [
            "🧪 Epoch 5/5:   1%|          | 1/125 [00:04<08:58,  4.34s/batch, loss=1.51, lr=4.77e-5]"
          ]
        },
        {
          "output_type": "stream",
          "name": "stdout",
          "text": [
            "Step 0: Avg gradient norm = 0.203823\n"
          ]
        },
        {
          "output_type": "stream",
          "name": "stderr",
          "text": [
            "🧪 Epoch 5/5:  41%|████      | 51/125 [02:33<03:33,  2.89s/batch, loss=1.23, lr=4.77e-5]"
          ]
        },
        {
          "output_type": "stream",
          "name": "stdout",
          "text": [
            "Step 50: Avg gradient norm = 0.208536\n"
          ]
        },
        {
          "output_type": "stream",
          "name": "stderr",
          "text": [
            "🧪 Epoch 5/5:  81%|████████  | 101/125 [05:00<01:10,  2.94s/batch, loss=1.27, lr=4.77e-5]"
          ]
        },
        {
          "output_type": "stream",
          "name": "stdout",
          "text": [
            "Step 100: Avg gradient norm = 0.209080\n"
          ]
        },
        {
          "output_type": "stream",
          "name": "stderr",
          "text": [
            "🧪 Epoch 5/5: 100%|██████████| 125/125 [06:09<00:00,  2.95s/batch, loss=1.01, lr=4.77e-5]"
          ]
        },
        {
          "output_type": "stream",
          "name": "stdout",
          "text": [
            "✅ Epoch 5 completed — Avg Loss: 1.3056 — Time: 369.15 sec\n",
            "   Loss change from previous epoch: 0.082428\n"
          ]
        },
        {
          "output_type": "stream",
          "name": "stderr",
          "text": [
            "\n"
          ]
        }
      ]
    },
    {
      "cell_type": "code",
      "source": [
        "# Save the LoRA adapter\n",
        "print(\"Saving LoRA adapter...\")\n",
        "clip_model.save_pretrained(\"/content/drive/MyDrive/fine_tuned_clip_lora_fixed\")\n",
        "print(\"✅ Training completed and model saved!\")\n",
        "\n",
        "# Final verification\n",
        "print(\"\\n=== FINAL VERIFICATION ===\")\n",
        "final_params = [(n, p.shape) for n, p in clip_model.named_parameters() if p.requires_grad]\n",
        "print(f\"Final trainable parameters: {len(final_params)}\")\n",
        "\n",
        "# Plot training curve\n",
        "import matplotlib.pyplot as plt\n",
        "plt.figure(figsize=(10, 6))\n",
        "plt.plot(range(1, NUM_EPOCHS+1), train_losses, 'b-', marker='o', linewidth=2, markersize=6)\n",
        "plt.title('Training Loss Over Epochs', fontsize=14)\n",
        "plt.xlabel('Epoch', fontsize=12)\n",
        "plt.ylabel('Loss', fontsize=12)\n",
        "plt.grid(True, alpha=0.3)\n",
        "plt.show()\n",
        "\n",
        "print(f\"Loss progression: {train_losses}\")"
      ],
      "metadata": {
        "colab": {
          "base_uri": "https://localhost:8080/",
          "height": 673
        },
        "id": "0YHqytxrTzfi",
        "outputId": "8d46f6bc-2c70-413c-be44-e04abcdb0381"
      },
      "execution_count": 15,
      "outputs": [
        {
          "output_type": "stream",
          "name": "stdout",
          "text": [
            "Saving LoRA adapter...\n",
            "✅ Training completed and model saved!\n",
            "\n",
            "=== FINAL VERIFICATION ===\n",
            "Final trainable parameters: 12\n"
          ]
        },
        {
          "output_type": "display_data",
          "data": {
            "text/plain": [
              "<Figure size 1000x600 with 1 Axes>"
            ],
            "image/png": "[encoded data removed]"
          },
          "metadata": {}
        },
        {
          "output_type": "stream",
          "name": "stdout",
          "text": [
            "Loss progression: [1.9048872804641723, 1.595043719291687, 1.4776889114379883, 1.3880244545936584, 1.3055967350006104]\n"
          ]
        }
      ]
    },
    {
      "cell_type": "code",
      "source": [
        "save_path = \"/content/drive/MyDrive/fine_tuned_clip_lora_descriptive\"\n",
        "os.makedirs(save_path, exist_ok=True)\n",
        "\n",
        "torch.save(clip_model.vision_model.state_dict(), f\"{save_path}/pytorch_model.bin\")\n",
        "print(f\"✅ Fine-tuned vision model saved to: {save_path}\")\n"
      ],
      "metadata": {
        "colab": {
          "base_uri": "https://localhost:8080/"
        },
        "id": "6Yt5CIYo-zYj",
        "outputId": "9d0a0003-8bd4-4ba5-ad2d-b1ee10639478"
      },
      "execution_count": 16,
      "outputs": [
        {
          "output_type": "stream",
          "name": "stdout",
          "text": [
            "✅ Fine-tuned vision model saved to: /content/drive/MyDrive/fine_tuned_clip_lora_descriptive\n"
          ]
        }
      ]
    }
  ]
}